{
 "cells": [
  {
   "cell_type": "markdown",
   "id": "d2ed6e83",
   "metadata": {},
   "source": [
    "PART A: Basic Python Tasks"
   ]
  },
  {
   "cell_type": "code",
   "execution_count": 31,
   "id": "c17cfa21",
   "metadata": {},
   "outputs": [
    {
     "name": "stdout",
     "output_type": "stream",
     "text": [
      "Requirement already satisfied: notebook in c:\\users\\mamat\\anaconda3\\lib\\site-packages (6.4.8)\n",
      "Requirement already satisfied: nest-asyncio>=1.5 in c:\\users\\mamat\\anaconda3\\lib\\site-packages (from notebook) (1.5.5)\n",
      "Requirement already satisfied: nbformat in c:\\users\\mamat\\anaconda3\\lib\\site-packages (from notebook) (5.3.0)\n",
      "Requirement already satisfied: jupyter-core>=4.6.1 in c:\\users\\mamat\\anaconda3\\lib\\site-packages (from notebook) (4.9.2)\n",
      "Requirement already satisfied: jinja2 in c:\\users\\mamat\\anaconda3\\lib\\site-packages (from notebook) (2.11.3)\n",
      "Requirement already satisfied: nbconvert in c:\\users\\mamat\\anaconda3\\lib\\site-packages (from notebook) (6.4.4)\n",
      "Requirement already satisfied: ipykernel in c:\\users\\mamat\\anaconda3\\lib\\site-packages (from notebook) (6.9.1)\n",
      "Requirement already satisfied: prometheus-client in c:\\users\\mamat\\anaconda3\\lib\\site-packages (from notebook) (0.13.1)\n",
      "Requirement already satisfied: traitlets>=4.2.1 in c:\\users\\mamat\\anaconda3\\lib\\site-packages (from notebook) (5.1.1)\n",
      "Requirement already satisfied: jupyter-client>=5.3.4 in c:\\users\\mamat\\anaconda3\\lib\\site-packages (from notebook) (6.1.12)\n",
      "Requirement already satisfied: tornado>=6.1 in c:\\users\\mamat\\anaconda3\\lib\\site-packages (from notebook) (6.1)\n",
      "Requirement already satisfied: ipython-genutils in c:\\users\\mamat\\anaconda3\\lib\\site-packages (from notebook) (0.2.0)\n",
      "Requirement already satisfied: pyzmq>=17 in c:\\users\\mamat\\anaconda3\\lib\\site-packages (from notebook) (22.3.0)\n",
      "Requirement already satisfied: argon2-cffi in c:\\users\\mamat\\anaconda3\\lib\\site-packages (from notebook) (21.3.0)\n",
      "Requirement already satisfied: terminado>=0.8.3 in c:\\users\\mamat\\anaconda3\\lib\\site-packages (from notebook) (0.13.1)\n",
      "Requirement already satisfied: Send2Trash>=1.8.0 in c:\\users\\mamat\\anaconda3\\lib\\site-packages (from notebook) (1.8.0)\n",
      "Requirement already satisfied: python-dateutil>=2.1 in c:\\users\\mamat\\anaconda3\\lib\\site-packages (from jupyter-client>=5.3.4->notebook) (2.8.2)\n",
      "Requirement already satisfied: pywin32>=1.0 in c:\\users\\mamat\\anaconda3\\lib\\site-packages (from jupyter-core>=4.6.1->notebook) (302)\n",
      "Requirement already satisfied: six>=1.5 in c:\\users\\mamat\\anaconda3\\lib\\site-packages (from python-dateutil>=2.1->jupyter-client>=5.3.4->notebook) (1.16.0)\n",
      "Requirement already satisfied: pywinpty>=1.1.0 in c:\\users\\mamat\\anaconda3\\lib\\site-packages (from terminado>=0.8.3->notebook) (2.0.2)\n",
      "Requirement already satisfied: argon2-cffi-bindings in c:\\users\\mamat\\anaconda3\\lib\\site-packages (from argon2-cffi->notebook) (21.2.0)\n",
      "Requirement already satisfied: cffi>=1.0.1 in c:\\users\\mamat\\anaconda3\\lib\\site-packages (from argon2-cffi-bindings->argon2-cffi->notebook) (1.15.0)\n",
      "Requirement already satisfied: pycparser in c:\\users\\mamat\\anaconda3\\lib\\site-packages (from cffi>=1.0.1->argon2-cffi-bindings->argon2-cffi->notebook) (2.21)\n",
      "Requirement already satisfied: debugpy<2.0,>=1.0.0 in c:\\users\\mamat\\anaconda3\\lib\\site-packages (from ipykernel->notebook) (1.5.1)\n",
      "Requirement already satisfied: matplotlib-inline<0.2.0,>=0.1.0 in c:\\users\\mamat\\anaconda3\\lib\\site-packages (from ipykernel->notebook) (0.1.2)\n",
      "Requirement already satisfied: ipython>=7.23.1 in c:\\users\\mamat\\anaconda3\\lib\\site-packages (from ipykernel->notebook) (8.2.0)\n",
      "Requirement already satisfied: jedi>=0.16 in c:\\users\\mamat\\anaconda3\\lib\\site-packages (from ipython>=7.23.1->ipykernel->notebook) (0.18.1)\n",
      "Requirement already satisfied: pygments>=2.4.0 in c:\\users\\mamat\\anaconda3\\lib\\site-packages (from ipython>=7.23.1->ipykernel->notebook) (2.11.2)\n",
      "Requirement already satisfied: decorator in c:\\users\\mamat\\anaconda3\\lib\\site-packages (from ipython>=7.23.1->ipykernel->notebook) (5.1.1)\n",
      "Requirement already satisfied: prompt-toolkit!=3.0.0,!=3.0.1,<3.1.0,>=2.0.0 in c:\\users\\mamat\\anaconda3\\lib\\site-packages (from ipython>=7.23.1->ipykernel->notebook) (3.0.20)\n",
      "Requirement already satisfied: pickleshare in c:\\users\\mamat\\anaconda3\\lib\\site-packages (from ipython>=7.23.1->ipykernel->notebook) (0.7.5)\n",
      "Requirement already satisfied: stack-data in c:\\users\\mamat\\anaconda3\\lib\\site-packages (from ipython>=7.23.1->ipykernel->notebook) (0.2.0)\n",
      "Requirement already satisfied: backcall in c:\\users\\mamat\\anaconda3\\lib\\site-packages (from ipython>=7.23.1->ipykernel->notebook) (0.2.0)\n",
      "Requirement already satisfied: setuptools>=18.5 in c:\\users\\mamat\\anaconda3\\lib\\site-packages (from ipython>=7.23.1->ipykernel->notebook) (61.2.0)\n",
      "Requirement already satisfied: colorama in c:\\users\\mamat\\anaconda3\\lib\\site-packages (from ipython>=7.23.1->ipykernel->notebook) (0.4.4)\n",
      "Requirement already satisfied: parso<0.9.0,>=0.8.0 in c:\\users\\mamat\\anaconda3\\lib\\site-packages (from jedi>=0.16->ipython>=7.23.1->ipykernel->notebook) (0.8.3)\n",
      "Requirement already satisfied: wcwidth in c:\\users\\mamat\\anaconda3\\lib\\site-packages (from prompt-toolkit!=3.0.0,!=3.0.1,<3.1.0,>=2.0.0->ipython>=7.23.1->ipykernel->notebook) (0.2.5)\n",
      "Requirement already satisfied: MarkupSafe>=0.23 in c:\\users\\mamat\\anaconda3\\lib\\site-packages (from jinja2->notebook) (2.0.1)\n",
      "Requirement already satisfied: defusedxml in c:\\users\\mamat\\anaconda3\\lib\\site-packages (from nbconvert->notebook) (0.7.1)\n",
      "Requirement already satisfied: jupyterlab-pygments in c:\\users\\mamat\\anaconda3\\lib\\site-packages (from nbconvert->notebook) (0.1.2)\n",
      "Requirement already satisfied: bleach in c:\\users\\mamat\\anaconda3\\lib\\site-packages (from nbconvert->notebook) (4.1.0)\n",
      "Requirement already satisfied: entrypoints>=0.2.2 in c:\\users\\mamat\\anaconda3\\lib\\site-packages (from nbconvert->notebook) (0.4)\n",
      "Requirement already satisfied: pandocfilters>=1.4.1 in c:\\users\\mamat\\anaconda3\\lib\\site-packages (from nbconvert->notebook) (1.5.0)\n",
      "Requirement already satisfied: mistune<2,>=0.8.1 in c:\\users\\mamat\\anaconda3\\lib\\site-packages (from nbconvert->notebook) (0.8.4)\n",
      "Requirement already satisfied: testpath in c:\\users\\mamat\\anaconda3\\lib\\site-packages (from nbconvert->notebook) (0.5.0)\n",
      "Requirement already satisfied: nbclient<0.6.0,>=0.5.0 in c:\\users\\mamat\\anaconda3\\lib\\site-packages (from nbconvert->notebook) (0.5.13)\n",
      "Requirement already satisfied: beautifulsoup4 in c:\\users\\mamat\\anaconda3\\lib\\site-packages (from nbconvert->notebook) (4.11.1)\n",
      "Requirement already satisfied: fastjsonschema in c:\\users\\mamat\\anaconda3\\lib\\site-packages (from nbformat->notebook) (2.15.1)\n",
      "Requirement already satisfied: jsonschema>=2.6 in c:\\users\\mamat\\anaconda3\\lib\\site-packages (from nbformat->notebook) (4.4.0)\n",
      "Requirement already satisfied: attrs>=17.4.0 in c:\\users\\mamat\\anaconda3\\lib\\site-packages (from jsonschema>=2.6->nbformat->notebook) (21.4.0)\n",
      "Requirement already satisfied: pyrsistent!=0.17.0,!=0.17.1,!=0.17.2,>=0.14.0 in c:\\users\\mamat\\anaconda3\\lib\\site-packages (from jsonschema>=2.6->nbformat->notebook) (0.18.0)\n",
      "Requirement already satisfied: soupsieve>1.2 in c:\\users\\mamat\\anaconda3\\lib\\site-packages (from beautifulsoup4->nbconvert->notebook) (2.3.1)\n",
      "Requirement already satisfied: packaging in c:\\users\\mamat\\anaconda3\\lib\\site-packages (from bleach->nbconvert->notebook) (21.3)\n",
      "Requirement already satisfied: webencodings in c:\\users\\mamat\\anaconda3\\lib\\site-packages (from bleach->nbconvert->notebook) (0.5.1)\n",
      "Requirement already satisfied: pyparsing!=3.0.5,>=2.0.2 in c:\\users\\mamat\\anaconda3\\lib\\site-packages (from packaging->bleach->nbconvert->notebook) (3.0.4)\n",
      "Requirement already satisfied: asttokens in c:\\users\\mamat\\anaconda3\\lib\\site-packages (from stack-data->ipython>=7.23.1->ipykernel->notebook) (2.0.5)\n",
      "Requirement already satisfied: executing in c:\\users\\mamat\\anaconda3\\lib\\site-packages (from stack-data->ipython>=7.23.1->ipykernel->notebook) (0.8.3)\n",
      "Requirement already satisfied: pure-eval in c:\\users\\mamat\\anaconda3\\lib\\site-packages (from stack-data->ipython>=7.23.1->ipykernel->notebook) (0.2.2)\n",
      "Note: you may need to restart the kernel to use updated packages.\n"
     ]
    }
   ],
   "source": [
    "pip install notebook"
   ]
  },
  {
   "cell_type": "code",
   "execution_count": 11,
   "id": "8da2a083",
   "metadata": {},
   "outputs": [],
   "source": [
    "# 🧠 Main Flow Internship – Python Task 2\n",
    "## 🔧 Basic Python Programs & Maze Solver\n"
   ]
  },
  {
   "cell_type": "code",
   "execution_count": 32,
   "id": "ca6aa40d",
   "metadata": {},
   "outputs": [
    {
     "data": {
      "text/plain": [
       "True"
      ]
     },
     "execution_count": 32,
     "metadata": {},
     "output_type": "execute_result"
    }
   ],
   "source": [
    "def is_prime(n):\n",
    "    if n <= 1:\n",
    "        return False\n",
    "    for i in range(2, int(n ** 0.5) + 1):\n",
    "        if n % i == 0:\n",
    "            return False\n",
    "    return True\n",
    "\n",
    "# Test\n",
    "is_prime(11)\n"
   ]
  },
  {
   "cell_type": "code",
   "execution_count": 33,
   "id": "d6e1b5d7",
   "metadata": {},
   "outputs": [
    {
     "data": {
      "text/plain": [
       "10"
      ]
     },
     "execution_count": 33,
     "metadata": {},
     "output_type": "execute_result"
    }
   ],
   "source": [
    "def sum_of_digits(n):\n",
    "    return sum(int(digit) for digit in str(abs(n)))\n",
    "\n",
    "sum_of_digits(1234)\n"
   ]
  },
  {
   "cell_type": "code",
   "execution_count": 34,
   "id": "caef1ed2",
   "metadata": {},
   "outputs": [
    {
     "data": {
      "text/plain": [
       "(6, 36)"
      ]
     },
     "execution_count": 34,
     "metadata": {},
     "output_type": "execute_result"
    }
   ],
   "source": [
    "import math\n",
    "\n",
    "def gcd_lcm(a, b):\n",
    "    gcd = math.gcd(a, b)\n",
    "    lcm = abs(a * b) // gcd\n",
    "    return gcd, lcm\n",
    "\n",
    "gcd_lcm(12, 18)\n"
   ]
  },
  {
   "cell_type": "code",
   "execution_count": 35,
   "id": "38792f8d",
   "metadata": {},
   "outputs": [
    {
     "data": {
      "text/plain": [
       "[5, 4, 3, 2, 1]"
      ]
     },
     "execution_count": 35,
     "metadata": {},
     "output_type": "execute_result"
    }
   ],
   "source": [
    "def reverse_list(lst):\n",
    "    n = len(lst)\n",
    "    for i in range(n // 2):\n",
    "        lst[i], lst[n - i - 1] = lst[n - i - 1], lst[i]\n",
    "    return lst\n",
    "\n",
    "reverse_list([1, 2, 3, 4, 5])\n"
   ]
  },
  {
   "cell_type": "code",
   "execution_count": 36,
   "id": "f704dcf2",
   "metadata": {},
   "outputs": [
    {
     "data": {
      "text/plain": [
       "[3, 5, 7, 9]"
      ]
     },
     "execution_count": 36,
     "metadata": {},
     "output_type": "execute_result"
    }
   ],
   "source": [
    "def bubble_sort(lst):\n",
    "    n = len(lst)\n",
    "    for i in range(n):\n",
    "        for j in range(0, n - i - 1):\n",
    "            if lst[j] > lst[j + 1]:\n",
    "                lst[j], lst[j + 1] = lst[j + 1], lst[j]\n",
    "    return lst\n",
    "\n",
    "bubble_sort([9, 5, 3, 7])\n"
   ]
  },
  {
   "cell_type": "code",
   "execution_count": 37,
   "id": "8b8e9a82",
   "metadata": {},
   "outputs": [
    {
     "data": {
      "text/plain": [
       "[1, 2, 3, 4]"
      ]
     },
     "execution_count": 37,
     "metadata": {},
     "output_type": "execute_result"
    }
   ],
   "source": [
    "def remove_duplicates(lst):\n",
    "    unique = []\n",
    "    for item in lst:\n",
    "        if item not in unique:\n",
    "            unique.append(item)\n",
    "    return unique\n",
    "\n",
    "remove_duplicates([1, 2, 2, 3, 3, 4])\n"
   ]
  },
  {
   "cell_type": "code",
   "execution_count": 38,
   "id": "0f927d06",
   "metadata": {},
   "outputs": [
    {
     "data": {
      "text/plain": [
       "7"
      ]
     },
     "execution_count": 38,
     "metadata": {},
     "output_type": "execute_result"
    }
   ],
   "source": [
    "def string_length(s):\n",
    "    count = 0\n",
    "    for _ in s:\n",
    "        count += 1\n",
    "    return count\n",
    "\n",
    "string_length(\"mamatha\")\n"
   ]
  },
  {
   "cell_type": "code",
   "execution_count": 39,
   "id": "6d0390ad",
   "metadata": {},
   "outputs": [
    {
     "data": {
      "text/plain": [
       "(4, 5)"
      ]
     },
     "execution_count": 39,
     "metadata": {},
     "output_type": "execute_result"
    }
   ],
   "source": [
    "def count_vowels_consonants(s):\n",
    "    vowels = 'aeiouAEIOU'\n",
    "    v = c = 0\n",
    "    for ch in s:\n",
    "        if ch.isalpha():\n",
    "            if ch in vowels:\n",
    "                v += 1\n",
    "            else:\n",
    "                c += 1\n",
    "    return v, c\n",
    "\n",
    "count_vowels_consonants(\"Hello Babe\")\n"
   ]
  },
  {
   "cell_type": "markdown",
   "id": "89099b30",
   "metadata": {},
   "source": [
    "Part B: Maze Generator and Solver"
   ]
  },
  {
   "cell_type": "code",
   "execution_count": 40,
   "id": "bf19a2b0",
   "metadata": {},
   "outputs": [],
   "source": [
    "import random\n",
    "\n",
    "def generate_maze(rows, cols):\n",
    "    maze = [[1 for _ in range(cols)] for _ in range(rows)]\n",
    "\n",
    "    def carve_passages(x, y):\n",
    "        directions = [(0, 2), (0, -2), (2, 0), (-2, 0)]\n",
    "        random.shuffle(directions)\n",
    "        for dx, dy in directions:\n",
    "            nx, ny = x + dx, y + dy\n",
    "            if 0 < nx < rows and 0 < ny < cols and maze[nx][ny] == 1:\n",
    "                maze[nx][ny] = 0\n",
    "                maze[x + dx // 2][y + dy // 2] = 0\n",
    "                carve_passages(nx, ny)\n",
    "\n",
    "    maze[1][1] = 0  # starting point\n",
    "    carve_passages(1, 1)\n",
    "    maze[0][1] = 0  # entrance\n",
    "    maze[rows - 1][cols - 2] = 0  # exit\n",
    "    return maze\n"
   ]
  },
  {
   "cell_type": "code",
   "execution_count": 41,
   "id": "f6f50513",
   "metadata": {},
   "outputs": [],
   "source": [
    "def print_maze(maze):\n",
    "    for row in maze:\n",
    "        print(''.join('█' if cell else ' ' for cell in row))\n"
   ]
  },
  {
   "cell_type": "code",
   "execution_count": 42,
   "id": "3c09ce44",
   "metadata": {},
   "outputs": [],
   "source": [
    "def solve_maze(maze):\n",
    "    rows, cols = len(maze), len(maze[0])\n",
    "    visited = [[False] * cols for _ in range(rows)]\n",
    "    path = []\n",
    "\n",
    "    def dfs(x, y):\n",
    "        if x == rows - 1 and y == cols - 2:\n",
    "            path.append((x, y))\n",
    "            return True\n",
    "        if x < 0 or y < 0 or x >= rows or y >= cols or maze[x][y] == 1 or visited[x][y]:\n",
    "            return False\n",
    "        visited[x][y] = True\n",
    "        path.append((x, y))\n",
    "        for dx, dy in [(0,1), (1,0), (0,-1), (-1,0)]:\n",
    "            if dfs(x+dx, y+dy):\n",
    "                return True\n",
    "        path.pop()\n",
    "        return False\n",
    "\n",
    "    dfs(0, 1)\n",
    "    return path\n"
   ]
  },
  {
   "cell_type": "code",
   "execution_count": 43,
   "id": "3e79ae64",
   "metadata": {},
   "outputs": [],
   "source": [
    "def show_solution(maze, path):\n",
    "    solved_maze = [row[:] for row in maze]\n",
    "    for x, y in path:\n",
    "        solved_maze[x][y] = '*'\n",
    "    for row in solved_maze:\n",
    "        print(''.join('█' if cell==1 else '*' if cell=='*' else ' ' for cell in row))\n"
   ]
  },
  {
   "cell_type": "code",
   "execution_count": 44,
   "id": "fbee387b",
   "metadata": {},
   "outputs": [
    {
     "name": "stdout",
     "output_type": "stream",
     "text": [
      "🧱 Generated Maze:\n",
      "\n",
      "█ ███████████████████\n",
      "█   █ █   █         █\n",
      "███ █ █ █ █ ███████ █\n",
      "█   █   █ █   █   █ █\n",
      "█ ███████ ███ █ █ █ █\n",
      "█ █     █       █ █ █\n",
      "█ ███ █ ███████████ █\n",
      "█     █             █\n",
      "███████████████████ █\n",
      "█   █   █         █ █\n",
      "█ ███ █ █ █████ █ █ █\n",
      "█     █   █   █ █ █ █\n",
      "█ ███████████ █ ███ █\n",
      "█             █     █\n",
      "███████████████████ █\n",
      "\n",
      "✅ Solved Maze with Path:\n",
      "\n",
      "█*███████████████████\n",
      "█***█ █   █         █\n",
      "███*█ █ █ █ ███████ █\n",
      "█***█   █ █   █   █ █\n",
      "█*███████ ███ █ █ █ █\n",
      "█*█  ***█       █ █ █\n",
      "█*███*█*███████████ █\n",
      "█*****█*************█\n",
      "███████████████████*█\n",
      "█   █   █         █*█\n",
      "█ ███ █ █ █████ █ █*█\n",
      "█     █   █   █ █ █*█\n",
      "█ ███████████ █ ███*█\n",
      "█             █    *█\n",
      "███████████████████*█\n"
     ]
    }
   ],
   "source": [
    "# Size should be odd numbers like (15, 21)\n",
    "maze = generate_maze(15, 21)\n",
    "\n",
    "print(\"🧱 Generated Maze:\\n\")\n",
    "print_maze(maze)\n",
    "\n",
    "path = solve_maze(maze)\n",
    "\n",
    "print(\"\\n✅ Solved Maze with Path:\\n\")\n",
    "show_solution(maze, path)\n"
   ]
  },
  {
   "cell_type": "code",
   "execution_count": null,
   "id": "a85eda3c",
   "metadata": {},
   "outputs": [],
   "source": []
  }
 ],
 "metadata": {
  "kernelspec": {
   "display_name": "Python 3 (ipykernel)",
   "language": "python",
   "name": "python3"
  },
  "language_info": {
   "codemirror_mode": {
    "name": "ipython",
    "version": 3
   },
   "file_extension": ".py",
   "mimetype": "text/x-python",
   "name": "python",
   "nbconvert_exporter": "python",
   "pygments_lexer": "ipython3",
   "version": "3.9.12"
  }
 },
 "nbformat": 4,
 "nbformat_minor": 5
}
